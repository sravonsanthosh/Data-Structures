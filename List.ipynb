{
 "cells": [
  {
   "cell_type": "code",
   "execution_count": 53,
   "id": "a8cb433c-dfe6-49c2-a3f4-a45e402d534c",
   "metadata": {},
   "outputs": [
    {
     "name": "stdout",
     "output_type": "stream",
     "text": [
      "Hello World\n"
     ]
    }
   ],
   "source": [
    "print('Hello World')\n"
   ]
  },
  {
   "cell_type": "code",
   "execution_count": 54,
   "id": "79cc3488-3af0-4e83-ab4e-5993061ade7f",
   "metadata": {},
   "outputs": [
    {
     "data": {
      "text/plain": [
       "[1, 2, 3, 4]"
      ]
     },
     "execution_count": 54,
     "metadata": {},
     "output_type": "execute_result"
    }
   ],
   "source": [
    "a=[1,2,3,4]\n",
    "a\n"
   ]
  },
  {
   "cell_type": "code",
   "execution_count": 55,
   "id": "9937b8e0-3ed7-4876-b03a-5796aa789b72",
   "metadata": {},
   "outputs": [
    {
     "name": "stdout",
     "output_type": "stream",
     "text": [
      "<class 'list'>\n"
     ]
    }
   ],
   "source": [
    "print(type(a))\n"
   ]
  },
  {
   "cell_type": "code",
   "execution_count": 56,
   "id": "5a1756b2-2bf0-47ff-bbf6-ed7120b74ef9",
   "metadata": {},
   "outputs": [
    {
     "data": {
      "text/plain": [
       "[25, 'Hello World', True, 15.6]"
      ]
     },
     "execution_count": 56,
     "metadata": {},
     "output_type": "execute_result"
    }
   ],
   "source": [
    "b=[25,'Hello World',True,15.6]\n",
    "b\n"
   ]
  },
  {
   "cell_type": "code",
   "execution_count": 57,
   "id": "7132066a-2800-45dd-8e10-5813c42c2e59",
   "metadata": {},
   "outputs": [
    {
     "data": {
      "text/plain": [
       "list"
      ]
     },
     "execution_count": 57,
     "metadata": {},
     "output_type": "execute_result"
    }
   ],
   "source": [
    "type(b)\n"
   ]
  },
  {
   "cell_type": "code",
   "execution_count": 58,
   "id": "7e6c26c4-26d1-4df1-ac99-0b42ab5d00ba",
   "metadata": {},
   "outputs": [
    {
     "data": {
      "text/plain": [
       "['Apple', 'Banana', 'Orange', 'Mango']"
      ]
     },
     "execution_count": 58,
     "metadata": {},
     "output_type": "execute_result"
    }
   ],
   "source": [
    "c=['Apple','Banana','Orange','Mango']\n",
    "c\n"
   ]
  },
  {
   "cell_type": "code",
   "execution_count": 59,
   "id": "089d87c4-5abc-4a03-98af-a3f5bdeb46b4",
   "metadata": {},
   "outputs": [
    {
     "data": {
      "text/plain": [
       "[1.1, 2.2, 3.3, 4.4, 5.5]"
      ]
     },
     "execution_count": 59,
     "metadata": {},
     "output_type": "execute_result"
    }
   ],
   "source": [
    "d=[1.1,2.2,3.3,4.4,5.5]\n",
    "d\n"
   ]
  },
  {
   "cell_type": "code",
   "execution_count": 60,
   "id": "11684b09-b5cb-487a-918e-c47283fba057",
   "metadata": {},
   "outputs": [
    {
     "data": {
      "text/plain": [
       "list"
      ]
     },
     "execution_count": 60,
     "metadata": {},
     "output_type": "execute_result"
    }
   ],
   "source": [
    "type(d)\n"
   ]
  },
  {
   "cell_type": "code",
   "execution_count": 61,
   "id": "ded0d7d8-9805-49b4-9a2a-512425c867c2",
   "metadata": {},
   "outputs": [
    {
     "data": {
      "text/plain": [
       "list"
      ]
     },
     "execution_count": 61,
     "metadata": {},
     "output_type": "execute_result"
    }
   ],
   "source": [
    "e=[True,False]\n",
    "e\n",
    "type(e)\n"
   ]
  },
  {
   "cell_type": "code",
   "execution_count": 62,
   "id": "8619e5c2-567c-489a-991a-da80881aea9a",
   "metadata": {},
   "outputs": [
    {
     "name": "stdout",
     "output_type": "stream",
     "text": [
      "<class 'list'>\n"
     ]
    },
    {
     "data": {
      "text/plain": [
       "[1, 'Orange', 25.5, True, 'Apple', 'List', 56, 'Hello World', 2, 10.0]"
      ]
     },
     "execution_count": 62,
     "metadata": {},
     "output_type": "execute_result"
    }
   ],
   "source": [
    "#List Creation\n",
    "L1=[1,'Orange',25.5,True,'Apple','List',56,\"Hello World\",2,10.0]\n",
    "print(type(L1))\n",
    "L1"
   ]
  },
  {
   "cell_type": "code",
   "execution_count": 63,
   "id": "ecaea833-a623-45db-9a36-167c21ac674b",
   "metadata": {},
   "outputs": [
    {
     "data": {
      "text/plain": [
       "10"
      ]
     },
     "execution_count": 63,
     "metadata": {},
     "output_type": "execute_result"
    }
   ],
   "source": [
    "#Length of a list\n",
    "len(L1)\n"
   ]
  },
  {
   "cell_type": "code",
   "execution_count": 64,
   "id": "6d942b05-b1d6-4d09-860b-f82f4cdfcfe6",
   "metadata": {},
   "outputs": [
    {
     "data": {
      "text/plain": [
       "1"
      ]
     },
     "execution_count": 64,
     "metadata": {},
     "output_type": "execute_result"
    }
   ],
   "source": [
    "#Indexing of a List\n",
    "L1[0]\n"
   ]
  },
  {
   "cell_type": "code",
   "execution_count": 65,
   "id": "165c5229-bf22-4653-8f80-fd1e145afc0e",
   "metadata": {},
   "outputs": [
    {
     "data": {
      "text/plain": [
       "10.0"
      ]
     },
     "execution_count": 65,
     "metadata": {},
     "output_type": "execute_result"
    }
   ],
   "source": [
    "L1[9]\n"
   ]
  },
  {
   "cell_type": "code",
   "execution_count": 66,
   "id": "fdd18764-95a1-4bb0-a043-ce9f44009ca3",
   "metadata": {},
   "outputs": [
    {
     "data": {
      "text/plain": [
       "[10.0, 2, 'Hello World', 56, 'List', 'Apple', True, 25.5, 'Orange', 1]"
      ]
     },
     "execution_count": 66,
     "metadata": {},
     "output_type": "execute_result"
    }
   ],
   "source": [
    "#Reversing a List\n",
    "L1[::-1]\n"
   ]
  },
  {
   "cell_type": "code",
   "execution_count": 67,
   "id": "efa39818-86ea-453d-9ebb-c1ccae635e08",
   "metadata": {},
   "outputs": [
    {
     "data": {
      "text/plain": [
       "10.0"
      ]
     },
     "execution_count": 67,
     "metadata": {},
     "output_type": "execute_result"
    }
   ],
   "source": [
    "#Last number of a List\n",
    "L1[-1]\n"
   ]
  },
  {
   "cell_type": "code",
   "execution_count": 68,
   "id": "0c87e143-10ae-4a76-8735-c4f6a7a894cc",
   "metadata": {},
   "outputs": [
    {
     "data": {
      "text/plain": [
       "[25.5, True, 'Apple', 'List']"
      ]
     },
     "execution_count": 68,
     "metadata": {},
     "output_type": "execute_result"
    }
   ],
   "source": [
    "#Slicing\n",
    "L1[2:6]\n"
   ]
  },
  {
   "cell_type": "code",
   "execution_count": 69,
   "id": "a8a1af31-9bb9-40e3-a75d-b0b14c28a5d7",
   "metadata": {},
   "outputs": [
    {
     "data": {
      "text/plain": [
       "[1, 'Orange', 25.5, True, 'Apple', 'List', 56, 'Hello World', 2, 10.0, 6]"
      ]
     },
     "execution_count": 69,
     "metadata": {},
     "output_type": "execute_result"
    }
   ],
   "source": [
    "#Appending a List\n",
    "L1.append(6)\n",
    "L1\n"
   ]
  },
  {
   "cell_type": "code",
   "execution_count": 70,
   "id": "9a7e7e3a-3b48-4fb9-8755-afddba97eb0a",
   "metadata": {},
   "outputs": [],
   "source": [
    "#Insertion of List\n",
    "L1.insert(0,8)\n"
   ]
  },
  {
   "cell_type": "code",
   "execution_count": 71,
   "id": "217e3143-ec99-4f43-9ccd-9f60458f6070",
   "metadata": {},
   "outputs": [
    {
     "data": {
      "text/plain": [
       "[8, 1, 'Orange', 25.5, True, 'Apple', 'List', 56, 'Hello World', 2, 10.0, 6]"
      ]
     },
     "execution_count": 71,
     "metadata": {},
     "output_type": "execute_result"
    }
   ],
   "source": [
    "L1\n"
   ]
  },
  {
   "cell_type": "code",
   "execution_count": 72,
   "id": "8319b77b-da0f-49c1-9464-4c052bd101a4",
   "metadata": {},
   "outputs": [
    {
     "data": {
      "text/plain": [
       "[8,\n",
       " 1,\n",
       " 'Orange',\n",
       " 25.5,\n",
       " True,\n",
       " 12,\n",
       " 'Apple',\n",
       " 'List',\n",
       " 56,\n",
       " 'Hello World',\n",
       " 2,\n",
       " 10.0,\n",
       " 6]"
      ]
     },
     "execution_count": 72,
     "metadata": {},
     "output_type": "execute_result"
    }
   ],
   "source": [
    "L1.insert(5,12)\n",
    "L1\n"
   ]
  },
  {
   "cell_type": "code",
   "execution_count": 73,
   "id": "d14f8eff-9878-4477-9e95-42f08685bc28",
   "metadata": {},
   "outputs": [
    {
     "data": {
      "text/plain": [
       "list"
      ]
     },
     "execution_count": 73,
     "metadata": {},
     "output_type": "execute_result"
    }
   ],
   "source": [
    "type(L1)\n"
   ]
  },
  {
   "cell_type": "code",
   "execution_count": 74,
   "id": "32326197-7295-4b0c-afe0-00c0259f800e",
   "metadata": {},
   "outputs": [
    {
     "data": {
      "text/plain": [
       "[8, 1, 'Orange', 25.5, True, 'Apple', 'List', 56, 'Hello World', 2, 10.0, 6]"
      ]
     },
     "execution_count": 74,
     "metadata": {},
     "output_type": "execute_result"
    }
   ],
   "source": [
    "\n",
    "#Deletion of elements in a List\n",
    "L1.remove(12)\n",
    "L1\n"
   ]
  },
  {
   "cell_type": "code",
   "execution_count": 75,
   "id": "a7ec35b7-0e94-48cf-99c4-0fb5c8b224cd",
   "metadata": {},
   "outputs": [],
   "source": [
    "L1.append(6)\n"
   ]
  },
  {
   "cell_type": "code",
   "execution_count": 76,
   "id": "fa2b2944-739b-481c-9c31-0be7ca2d5c00",
   "metadata": {},
   "outputs": [
    {
     "data": {
      "text/plain": [
       "[8, 1, 'Orange', 25.5, True, 'Apple', 'List', 56, 'Hello World', 2, 10.0, 6]"
      ]
     },
     "execution_count": 76,
     "metadata": {},
     "output_type": "execute_result"
    }
   ],
   "source": [
    "L1.remove(6)\n",
    "L1\n"
   ]
  },
  {
   "cell_type": "code",
   "execution_count": 77,
   "id": "0c938bff-4011-4746-9706-66b5e5cc9c26",
   "metadata": {},
   "outputs": [],
   "source": [
    "#Deletion of specific value using del function\n",
    "del L1[1]\n"
   ]
  },
  {
   "cell_type": "code",
   "execution_count": 78,
   "id": "7f602325-ca64-43eb-9692-4be7b4a33e13",
   "metadata": {},
   "outputs": [
    {
     "data": {
      "text/plain": [
       "[8, 'Orange', 25.5, True, 'Apple', 'List', 56, 'Hello World', 2, 10.0, 6]"
      ]
     },
     "execution_count": 78,
     "metadata": {},
     "output_type": "execute_result"
    }
   ],
   "source": [
    "\n",
    "[8, 'Orange', 25.5, True, 'Apple', 'List', 56, 'Hello World', 2, 10.0, 6]\n"
   ]
  },
  {
   "cell_type": "code",
   "execution_count": null,
   "id": "c34d3342-3119-495d-873c-90cfc06f6c9d",
   "metadata": {},
   "outputs": [],
   "source": []
  }
 ],
 "metadata": {
  "kernelspec": {
   "display_name": "Python [conda env:base] *",
   "language": "python",
   "name": "conda-base-py"
  },
  "language_info": {
   "codemirror_mode": {
    "name": "ipython",
    "version": 3
   },
   "file_extension": ".py",
   "mimetype": "text/x-python",
   "name": "python",
   "nbconvert_exporter": "python",
   "pygments_lexer": "ipython3",
   "version": "3.13.5"
  }
 },
 "nbformat": 4,
 "nbformat_minor": 5
}
