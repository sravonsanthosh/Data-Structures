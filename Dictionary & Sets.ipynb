{
 "cells": [
  {
   "cell_type": "code",
   "execution_count": 47,
   "id": "21d0951e-1e0a-4129-94ee-0fb68f531c64",
   "metadata": {},
   "outputs": [
    {
     "data": {
      "text/plain": [
       "dict"
      ]
     },
     "execution_count": 47,
     "metadata": {},
     "output_type": "execute_result"
    }
   ],
   "source": [
    "\n",
    "#Creating an empty dict and checking the type\n",
    "d1={ }\n",
    "type(d1)"
   ]
  },
  {
   "cell_type": "code",
   "execution_count": 48,
   "id": "f26d7ec3-7b60-4c61-9351-b933d27a68be",
   "metadata": {},
   "outputs": [
    {
     "data": {
      "text/plain": [
       "({'Name': 'sravon', 'Age': 23, 'City': 'TSR'}, dict)"
      ]
     },
     "execution_count": 48,
     "metadata": {},
     "output_type": "execute_result"
    }
   ],
   "source": [
    "d2={'Name':'sravon','Age':23,'City':'TSR'}\n",
    "d2,type(d2)\n"
   ]
  },
  {
   "cell_type": "code",
   "execution_count": 49,
   "id": "9840f9d4-4e4c-49df-9ef7-60879bebba77",
   "metadata": {},
   "outputs": [
    {
     "data": {
      "text/plain": [
       "{'Name': 'sravon', 'Age': 23, 'City': 'TSR', 'ph no': '9876543210'}"
      ]
     },
     "execution_count": 49,
     "metadata": {},
     "output_type": "execute_result"
    }
   ],
   "source": [
    "#Adding quotes if number exceeds 9 digits(BIGINT)\n",
    "person={'Name':'sravon','Age':23,'City':'TSR','ph no':'9876543210'}\n",
    "person\n"
   ]
  },
  {
   "cell_type": "code",
   "execution_count": 50,
   "id": "6b91c35f-0f6f-4474-8623-4e2803c0525e",
   "metadata": {},
   "outputs": [],
   "source": [
    "#Added a new key value pair\n",
    "person['Salary']=101010\n"
   ]
  },
  {
   "cell_type": "code",
   "execution_count": 51,
   "id": "2813de17-b323-4a92-9ef8-af4ec8c0db5f",
   "metadata": {},
   "outputs": [
    {
     "data": {
      "text/plain": [
       "{'Name': 'sravon',\n",
       " 'Age': 23,\n",
       " 'City': 'TSR',\n",
       " 'ph no': '9876543210',\n",
       " 'Salary': 101010}"
      ]
     },
     "execution_count": 51,
     "metadata": {},
     "output_type": "execute_result"
    }
   ],
   "source": [
    "person"
   ]
  },
  {
   "cell_type": "code",
   "execution_count": 52,
   "id": "f926abdb-bc69-435f-a637-58e4941e31fd",
   "metadata": {},
   "outputs": [],
   "source": [
    "#Keys are unique\n",
    "person['Name']='Anu'\n"
   ]
  },
  {
   "cell_type": "code",
   "execution_count": 53,
   "id": "25f4aa57-9da3-473d-bf4f-20742eff7fd7",
   "metadata": {},
   "outputs": [
    {
     "data": {
      "text/plain": [
       "{'Name': 'Anu',\n",
       " 'Age': 23,\n",
       " 'City': 'TSR',\n",
       " 'ph no': '9876543210',\n",
       " 'Salary': 101010}"
      ]
     },
     "execution_count": 53,
     "metadata": {},
     "output_type": "execute_result"
    }
   ],
   "source": [
    "person"
   ]
  },
  {
   "cell_type": "code",
   "execution_count": 54,
   "id": "33a1f880-913f-4606-a5ca-138c0e71ac64",
   "metadata": {},
   "outputs": [],
   "source": [
    "person['Name']='Sam'"
   ]
  },
  {
   "cell_type": "code",
   "execution_count": 55,
   "id": "a95aa17e-8980-46ee-a71b-afc1b0ed8bbc",
   "metadata": {},
   "outputs": [
    {
     "data": {
      "text/plain": [
       "{'Name': 'Sam',\n",
       " 'Age': 23,\n",
       " 'City': 'TSR',\n",
       " 'ph no': '9876543210',\n",
       " 'Salary': 101010}"
      ]
     },
     "execution_count": 55,
     "metadata": {},
     "output_type": "execute_result"
    }
   ],
   "source": [
    "person"
   ]
  },
  {
   "cell_type": "code",
   "execution_count": 56,
   "id": "e1e0e7fc-f673-4dce-8b02-e91591bff585",
   "metadata": {},
   "outputs": [],
   "source": [
    "#Deletion of an element\n",
    "del person['Name']\n"
   ]
  },
  {
   "cell_type": "code",
   "execution_count": 57,
   "id": "2db354ca-f3fc-44eb-83f6-5001102aed11",
   "metadata": {},
   "outputs": [
    {
     "data": {
      "text/plain": [
       "{'Age': 23, 'City': 'TSR', 'ph no': '9876543210', 'Salary': 101010}"
      ]
     },
     "execution_count": 57,
     "metadata": {},
     "output_type": "execute_result"
    }
   ],
   "source": [
    "person"
   ]
  },
  {
   "cell_type": "code",
   "execution_count": 58,
   "id": "9ddef5a9-1edb-4763-8f27-eff25ba16ec8",
   "metadata": {},
   "outputs": [
    {
     "data": {
      "text/plain": [
       "23"
      ]
     },
     "execution_count": 58,
     "metadata": {},
     "output_type": "execute_result"
    }
   ],
   "source": [
    "#Accessing a value via key\n",
    "person['Age']"
   ]
  },
  {
   "cell_type": "code",
   "execution_count": 59,
   "id": "37c872a2-35ec-4c8d-bdcd-bed2549bbce4",
   "metadata": {},
   "outputs": [
    {
     "data": {
      "text/plain": [
       "4"
      ]
     },
     "execution_count": 59,
     "metadata": {},
     "output_type": "execute_result"
    }
   ],
   "source": [
    "#Length of a dictionary\n",
    "len(person)\n"
   ]
  },
  {
   "cell_type": "code",
   "execution_count": 60,
   "id": "ec93ac27-6ccc-4287-a31a-91a909c344f2",
   "metadata": {},
   "outputs": [
    {
     "data": {
      "text/plain": [
       "dict_keys(['Age', 'City', 'ph no', 'Salary'])"
      ]
     },
     "execution_count": 60,
     "metadata": {},
     "output_type": "execute_result"
    }
   ],
   "source": [
    "#Accessing keys\n",
    "person.keys()\n"
   ]
  },
  {
   "cell_type": "code",
   "execution_count": 61,
   "id": "765d1607-28ca-4173-a76e-0b7acde0a35d",
   "metadata": {},
   "outputs": [
    {
     "data": {
      "text/plain": [
       "dict_values([23, 'TSR', '9876543210', 101010])"
      ]
     },
     "execution_count": 61,
     "metadata": {},
     "output_type": "execute_result"
    }
   ],
   "source": [
    "#Accessing values\n",
    "person.values()\n"
   ]
  },
  {
   "cell_type": "code",
   "execution_count": 62,
   "id": "3136e7b8-1198-4420-959e-c8377f07fc3f",
   "metadata": {},
   "outputs": [
    {
     "data": {
      "text/plain": [
       "dict_items([('Age', 23), ('City', 'TSR'), ('ph no', '9876543210'), ('Salary', 101010)])"
      ]
     },
     "execution_count": 62,
     "metadata": {},
     "output_type": "execute_result"
    }
   ],
   "source": [
    "#To dislpay all the items\n",
    "person.items()\n"
   ]
  },
  {
   "cell_type": "code",
   "execution_count": 63,
   "id": "b0e72a7d-7b3b-4616-8260-d3f1a9ac23c4",
   "metadata": {},
   "outputs": [
    {
     "data": {
      "text/plain": [
       "{1, 2, 3, 4, 5, 6}"
      ]
     },
     "execution_count": 63,
     "metadata": {},
     "output_type": "execute_result"
    }
   ],
   "source": [
    "#Creating a set\n",
    "s1={1,2,3,4,5,1,6,}\n",
    "s1"
   ]
  },
  {
   "cell_type": "code",
   "execution_count": 64,
   "id": "fed61c57-b92b-4a1a-94a7-4c87cbd11267",
   "metadata": {},
   "outputs": [
    {
     "data": {
      "text/plain": [
       "set"
      ]
     },
     "execution_count": 64,
     "metadata": {},
     "output_type": "execute_result"
    }
   ],
   "source": [
    "#Checking the type\n",
    "type(s1)\n"
   ]
  },
  {
   "cell_type": "code",
   "execution_count": 65,
   "id": "73af580f-5b66-4950-81cf-96906e376da0",
   "metadata": {},
   "outputs": [
    {
     "data": {
      "text/plain": [
       "{1, 2, 4, 5, 6, 7, 8, 9}"
      ]
     },
     "execution_count": 65,
     "metadata": {},
     "output_type": "execute_result"
    }
   ],
   "source": [
    "#Another way to create set\n",
    "s2=set([1,2,6,7,8,9,5,4,5,2,1,6])\n",
    "s2\n"
   ]
  },
  {
   "cell_type": "code",
   "execution_count": 66,
   "id": "4ef6bb0a-30f0-4920-959b-5db2a9e1eb68",
   "metadata": {},
   "outputs": [],
   "source": [
    "#Adding an element\n",
    "s1.add(9)\n"
   ]
  },
  {
   "cell_type": "code",
   "execution_count": 67,
   "id": "e995f110-a2f4-462f-b077-adb326e5edb2",
   "metadata": {},
   "outputs": [
    {
     "data": {
      "text/plain": [
       "{1, 2, 3, 4, 5, 6, 9}"
      ]
     },
     "execution_count": 67,
     "metadata": {},
     "output_type": "execute_result"
    }
   ],
   "source": [
    "s1\n"
   ]
  },
  {
   "cell_type": "code",
   "execution_count": 68,
   "id": "0bbb2ce6-36b8-40cf-944f-c7029240ed15",
   "metadata": {},
   "outputs": [
    {
     "data": {
      "text/plain": [
       "set()"
      ]
     },
     "execution_count": 68,
     "metadata": {},
     "output_type": "execute_result"
    }
   ],
   "source": [
    "#Emptying set\n",
    "s1.clear()\n",
    "s1\n"
   ]
  },
  {
   "cell_type": "code",
   "execution_count": 69,
   "id": "15349da9-2eb8-4d55-9a9d-773905f4d589",
   "metadata": {},
   "outputs": [
    {
     "data": {
      "text/plain": [
       "8"
      ]
     },
     "execution_count": 69,
     "metadata": {},
     "output_type": "execute_result"
    }
   ],
   "source": [
    "#Length of a set\n",
    "len(s2)\n"
   ]
  },
  {
   "cell_type": "code",
   "execution_count": 70,
   "id": "42f696a2-ce36-4065-ab6c-198bfa5fa259",
   "metadata": {},
   "outputs": [
    {
     "data": {
      "text/plain": [
       "{0, 1, 2, 3, 4, 5, 6, 7, 8, 9, 11, 13}"
      ]
     },
     "execution_count": 70,
     "metadata": {},
     "output_type": "execute_result"
    }
   ],
   "source": [
    "#Union Operation (All the common elements in both sets)\n",
    "s3={1,1,2,3,5,4,5,6,7,8,9,0}\n",
    "s4={1,3,5,7,11,13}\n",
    "s3|s4 #or s3.union(s4)\n"
   ]
  },
  {
   "cell_type": "code",
   "execution_count": 71,
   "id": "27a952fe-9a6c-4d0b-8efa-85ea13a3055a",
   "metadata": {},
   "outputs": [
    {
     "data": {
      "text/plain": [
       "{1, 3, 5, 7}"
      ]
     },
     "execution_count": 71,
     "metadata": {},
     "output_type": "execute_result"
    }
   ],
   "source": [
    "#Intersection Operation (Displays only the common elements)\n",
    "s3&s4 #or s3.intersection(s4)\n"
   ]
  },
  {
   "cell_type": "code",
   "execution_count": 72,
   "id": "1379e339-37cb-48af-8ea8-d4b851e75e1f",
   "metadata": {},
   "outputs": [
    {
     "data": {
      "text/plain": [
       "{0, 2, 4, 6, 8, 9}"
      ]
     },
     "execution_count": 72,
     "metadata": {},
     "output_type": "execute_result"
    }
   ],
   "source": [
    "#Difference Operation\n",
    "s3-s4\n"
   ]
  },
  {
   "cell_type": "code",
   "execution_count": 73,
   "id": "5e266f77-4809-4795-b52b-dae6ee2fe003",
   "metadata": {},
   "outputs": [
    {
     "data": {
      "text/plain": [
       "{11, 13}"
      ]
     },
     "execution_count": 73,
     "metadata": {},
     "output_type": "execute_result"
    }
   ],
   "source": [
    "s4-s3\n"
   ]
  },
  {
   "cell_type": "code",
   "execution_count": null,
   "id": "8a80252c-c340-43af-9be4-bccc54a87d6a",
   "metadata": {},
   "outputs": [],
   "source": []
  }
 ],
 "metadata": {
  "kernelspec": {
   "display_name": "Python [conda env:base] *",
   "language": "python",
   "name": "conda-base-py"
  },
  "language_info": {
   "codemirror_mode": {
    "name": "ipython",
    "version": 3
   },
   "file_extension": ".py",
   "mimetype": "text/x-python",
   "name": "python",
   "nbconvert_exporter": "python",
   "pygments_lexer": "ipython3",
   "version": "3.13.5"
  }
 },
 "nbformat": 4,
 "nbformat_minor": 5
}
