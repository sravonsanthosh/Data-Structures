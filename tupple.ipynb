{
 "cells": [
  {
   "cell_type": "code",
   "execution_count": 20,
   "id": "2d488be8-0507-4952-94b6-706c6ff7214d",
   "metadata": {},
   "outputs": [
    {
     "data": {
      "text/plain": [
       "(1, 2, 3, 4)"
      ]
     },
     "execution_count": 20,
     "metadata": {},
     "output_type": "execute_result"
    }
   ],
   "source": [
    "#Creation of Tuple\n",
    "a=(1,2,3,4)\n",
    "a\n"
   ]
  },
  {
   "cell_type": "code",
   "execution_count": 21,
   "id": "47ddf098-3a20-4af8-afad-b0ba7c8cded5",
   "metadata": {},
   "outputs": [
    {
     "data": {
      "text/plain": [
       "tuple"
      ]
     },
     "execution_count": 21,
     "metadata": {},
     "output_type": "execute_result"
    }
   ],
   "source": [
    "#Checking class\n",
    "type(a)\n"
   ]
  },
  {
   "cell_type": "code",
   "execution_count": 22,
   "id": "a67d5de9-f444-44f8-a51c-b3926c88e1da",
   "metadata": {},
   "outputs": [
    {
     "data": {
      "text/plain": [
       "('apple', 'orange', 'banana')"
      ]
     },
     "execution_count": 22,
     "metadata": {},
     "output_type": "execute_result"
    }
   ],
   "source": [
    "b=('apple','orange','banana')\n",
    "b\n"
   ]
  },
  {
   "cell_type": "code",
   "execution_count": 23,
   "id": "f01ab773-6be8-4647-bfe5-e3bb78b74e7d",
   "metadata": {},
   "outputs": [
    {
     "data": {
      "text/plain": [
       "tuple"
      ]
     },
     "execution_count": 23,
     "metadata": {},
     "output_type": "execute_result"
    }
   ],
   "source": [
    "#Checking the class\n",
    "type(b)\n"
   ]
  },
  {
   "cell_type": "code",
   "execution_count": 24,
   "id": "551c8c06-0515-455a-af98-a7041a517aa2",
   "metadata": {},
   "outputs": [
    {
     "data": {
      "text/plain": [
       "str"
      ]
     },
     "execution_count": 24,
     "metadata": {},
     "output_type": "execute_result"
    }
   ],
   "source": [
    "#String datatype\n",
    "c=('a')\n",
    "type(c)\n"
   ]
  },
  {
   "cell_type": "code",
   "execution_count": 25,
   "id": "fc76c26f-1986-481c-86a9-6dc1d2a57610",
   "metadata": {},
   "outputs": [
    {
     "data": {
      "text/plain": [
       "tuple"
      ]
     },
     "execution_count": 25,
     "metadata": {},
     "output_type": "execute_result"
    }
   ],
   "source": [
    "#Tuple Datatype\n",
    "c=('a',)\n",
    "type(c)\n"
   ]
  },
  {
   "cell_type": "code",
   "execution_count": 26,
   "id": "109cdf5c-b381-477c-bbf8-a9b3fdc152bc",
   "metadata": {},
   "outputs": [
    {
     "data": {
      "text/plain": [
       "tuple"
      ]
     },
     "execution_count": 26,
     "metadata": {},
     "output_type": "execute_result"
    }
   ],
   "source": [
    "#Tuple with different Datatypes\n",
    "d=(2,'Tom',True,99.9)\n",
    "d\n",
    "type(d)\n"
   ]
  },
  {
   "cell_type": "code",
   "execution_count": 27,
   "id": "fa855e3c-28f2-4fb6-ac8c-c4584658a7dd",
   "metadata": {},
   "outputs": [
    {
     "data": {
      "text/plain": [
       "tuple"
      ]
     },
     "execution_count": 27,
     "metadata": {},
     "output_type": "execute_result"
    }
   ],
   "source": [
    "#Tuple without paranthesis\n",
    "e=1,2,3\n",
    "type(e)\n"
   ]
  },
  {
   "cell_type": "code",
   "execution_count": 28,
   "id": "4053684c-7503-480a-a1ef-f563fd5c6a48",
   "metadata": {},
   "outputs": [
    {
     "data": {
      "text/plain": [
       "(1, 2, 3, 4, 'apple', 'orange', 'banana')"
      ]
     },
     "execution_count": 28,
     "metadata": {},
     "output_type": "execute_result"
    }
   ],
   "source": [
    "#Merging two tuples\n",
    "t=a+b\n",
    "t\n"
   ]
  },
  {
   "cell_type": "code",
   "execution_count": 29,
   "id": "c7124351-4cde-4fd6-8488-356dfa8885e1",
   "metadata": {},
   "outputs": [
    {
     "data": {
      "text/plain": [
       "('a', 'a', 'a')"
      ]
     },
     "execution_count": 29,
     "metadata": {},
     "output_type": "execute_result"
    }
   ],
   "source": [
    "#Multiplying a tuple\n",
    "t1=c*3\n",
    "t1\n"
   ]
  },
  {
   "cell_type": "code",
   "execution_count": 30,
   "id": "8d80f20b-cf9a-4c6c-84d3-422b70e17c9f",
   "metadata": {},
   "outputs": [
    {
     "data": {
      "text/plain": [
       "tuple"
      ]
     },
     "execution_count": 30,
     "metadata": {},
     "output_type": "execute_result"
    }
   ],
   "source": [
    "#Checking class\n",
    "type(t1)\n"
   ]
  },
  {
   "cell_type": "code",
   "execution_count": 31,
   "id": "ea4e16c7-c981-41e6-b08d-1fea2f1ced12",
   "metadata": {},
   "outputs": [
    {
     "data": {
      "text/plain": [
       "('H', 'e', 'l', 'l', 'o')"
      ]
     },
     "execution_count": 31,
     "metadata": {},
     "output_type": "execute_result"
    }
   ],
   "source": [
    "#Another way to create a Tuple (string)\n",
    "t2=tuple('Hello')\n",
    "t2\n"
   ]
  },
  {
   "cell_type": "code",
   "execution_count": 32,
   "id": "3b015b77-ab56-461e-8db4-107ba4fb4d49",
   "metadata": {},
   "outputs": [
    {
     "data": {
      "text/plain": [
       "tuple"
      ]
     },
     "execution_count": 32,
     "metadata": {},
     "output_type": "execute_result"
    }
   ],
   "source": [
    "#Checking class\n",
    "type(t2)\n"
   ]
  },
  {
   "cell_type": "code",
   "execution_count": 33,
   "id": "3e1f54f9-dc2d-48f8-b649-23223c34fc74",
   "metadata": {},
   "outputs": [
    {
     "data": {
      "text/plain": [
       "('o', 'l', 'l', 'e', 'H')"
      ]
     },
     "execution_count": 33,
     "metadata": {},
     "output_type": "execute_result"
    }
   ],
   "source": [
    "#Reversing a Tuple\n",
    "t2[::-1]"
   ]
  },
  {
   "cell_type": "code",
   "execution_count": 34,
   "id": "e655eb5a-18d8-4f67-8cb3-ff1588428ee7",
   "metadata": {},
   "outputs": [
    {
     "data": {
      "text/plain": [
       "'e'"
      ]
     },
     "execution_count": 34,
     "metadata": {},
     "output_type": "execute_result"
    }
   ],
   "source": [
    "#Indexing\n",
    "t2[1]\n"
   ]
  },
  {
   "cell_type": "code",
   "execution_count": 35,
   "id": "92f2681a-d2f6-471e-ba88-a5e6b4f7134a",
   "metadata": {},
   "outputs": [],
   "source": [
    "#Unpacking a Tuple\n",
    "a,b,c,d,e=t2\n"
   ]
  },
  {
   "cell_type": "code",
   "execution_count": 36,
   "id": "bb052660-15ec-4c7d-a513-db10e2c1675d",
   "metadata": {},
   "outputs": [
    {
     "data": {
      "text/plain": [
       "'H'"
      ]
     },
     "execution_count": 36,
     "metadata": {},
     "output_type": "execute_result"
    }
   ],
   "source": [
    "#Calling a unpacked tuple\n",
    "a\n"
   ]
  },
  {
   "cell_type": "code",
   "execution_count": 37,
   "id": "c9d19df3-6caf-48a4-bf7e-1b9b09f17ac8",
   "metadata": {},
   "outputs": [
    {
     "data": {
      "text/plain": [
       "5"
      ]
     },
     "execution_count": 37,
     "metadata": {},
     "output_type": "execute_result"
    }
   ],
   "source": [
    "#length of Tuple\n",
    "len(t2)\n"
   ]
  },
  {
   "cell_type": "code",
   "execution_count": 38,
   "id": "18c11996-7a16-4e2c-8b8d-4cd71d37e2f9",
   "metadata": {},
   "outputs": [],
   "source": [
    "#Deletion of tuple\n",
    "del t2\n"
   ]
  },
  {
   "cell_type": "code",
   "execution_count": null,
   "id": "091821f3-a4a8-4d66-9a1e-915c68e0e38d",
   "metadata": {},
   "outputs": [],
   "source": []
  }
 ],
 "metadata": {
  "kernelspec": {
   "display_name": "Python [conda env:base] *",
   "language": "python",
   "name": "conda-base-py"
  },
  "language_info": {
   "codemirror_mode": {
    "name": "ipython",
    "version": 3
   },
   "file_extension": ".py",
   "mimetype": "text/x-python",
   "name": "python",
   "nbconvert_exporter": "python",
   "pygments_lexer": "ipython3",
   "version": "3.13.5"
  }
 },
 "nbformat": 4,
 "nbformat_minor": 5
}
