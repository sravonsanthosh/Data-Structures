{
 "cells": [
  {
   "cell_type": "code",
   "execution_count": 21,
   "id": "a023ff62-f754-4bfe-a503-364a509f937d",
   "metadata": {},
   "outputs": [],
   "source": [
    "#String with single quotes\n",
    "s1='Hello'\n"
   ]
  },
  {
   "cell_type": "code",
   "execution_count": 22,
   "id": "40b98678-06f2-41b8-a07c-111ec5151e0e",
   "metadata": {},
   "outputs": [
    {
     "data": {
      "text/plain": [
       "str"
      ]
     },
     "execution_count": 22,
     "metadata": {},
     "output_type": "execute_result"
    }
   ],
   "source": [
    "#Checking the type\n",
    "type(s1)\n"
   ]
  },
  {
   "cell_type": "code",
   "execution_count": 23,
   "id": "44e49f41-ee2e-4710-8edb-9b366e5e7e18",
   "metadata": {},
   "outputs": [
    {
     "data": {
      "text/plain": [
       "str"
      ]
     },
     "execution_count": 23,
     "metadata": {},
     "output_type": "execute_result"
    }
   ],
   "source": [
    "#String with double quotes\n",
    "s2=\"World\"\n",
    "type(s2)\n"
   ]
  },
  {
   "cell_type": "code",
   "execution_count": 24,
   "id": "436e10e6-a445-4374-9854-5cb33c0e720d",
   "metadata": {},
   "outputs": [
    {
     "data": {
      "text/plain": [
       "str"
      ]
     },
     "execution_count": 24,
     "metadata": {},
     "output_type": "execute_result"
    }
   ],
   "source": [
    "#String with triple quotes (multi-line string)\n",
    "s3='''Python is a\n",
    "programming language'''\n",
    "type(s3)\n"
   ]
  },
  {
   "cell_type": "code",
   "execution_count": 25,
   "id": "f5eb7cb2-d0c0-450e-9243-31de1dd94982",
   "metadata": {},
   "outputs": [
    {
     "data": {
      "text/plain": [
       "'HelloWorld'"
      ]
     },
     "execution_count": 25,
     "metadata": {},
     "output_type": "execute_result"
    }
   ],
   "source": [
    "#Concantination\n",
    "s3=s1+s2\n",
    "s3\n"
   ]
  },
  {
   "cell_type": "code",
   "execution_count": 26,
   "id": "85f2a634-2d4e-4689-9332-c918010e9689",
   "metadata": {},
   "outputs": [
    {
     "data": {
      "text/plain": [
       "'Hello World'"
      ]
     },
     "execution_count": 26,
     "metadata": {},
     "output_type": "execute_result"
    }
   ],
   "source": [
    "#Adding space in between s1 and s2\n",
    "s5=s1+' '+s2\n",
    "s5"
   ]
  },
  {
   "cell_type": "code",
   "execution_count": 27,
   "id": "79199539-8b93-48c2-983c-786393b87186",
   "metadata": {},
   "outputs": [
    {
     "data": {
      "text/plain": [
       "11"
      ]
     },
     "execution_count": 27,
     "metadata": {},
     "output_type": "execute_result"
    }
   ],
   "source": [
    "#Determining the length of s5\n",
    "len(s5)\n"
   ]
  },
  {
   "cell_type": "code",
   "execution_count": 28,
   "id": "1344dc68-0199-4cea-b634-27b12ba8fe15",
   "metadata": {},
   "outputs": [
    {
     "data": {
      "text/plain": [
       "'H'"
      ]
     },
     "execution_count": 28,
     "metadata": {},
     "output_type": "execute_result"
    }
   ],
   "source": [
    "#Accessing the characters via Indexing\n",
    "s5[0]\n"
   ]
  },
  {
   "cell_type": "code",
   "execution_count": 29,
   "id": "da3be05d-109e-48c3-9266-7231345e012c",
   "metadata": {},
   "outputs": [
    {
     "data": {
      "text/plain": [
       "'d'"
      ]
     },
     "execution_count": 29,
     "metadata": {},
     "output_type": "execute_result"
    }
   ],
   "source": [
    "s5[10]\n"
   ]
  },
  {
   "cell_type": "code",
   "execution_count": 30,
   "id": "a9adb452-0280-44ae-a5ea-515a324b2780",
   "metadata": {},
   "outputs": [
    {
     "data": {
      "text/plain": [
       "'llo Wo'"
      ]
     },
     "execution_count": 30,
     "metadata": {},
     "output_type": "execute_result"
    }
   ],
   "source": [
    "#Slicing a String\n",
    "s5[2:8]\n"
   ]
  },
  {
   "cell_type": "code",
   "execution_count": 31,
   "id": "9f3679bc-b372-4ad2-a655-cc49a5d4b849",
   "metadata": {},
   "outputs": [
    {
     "data": {
      "text/plain": [
       "'Hello WorldHello WorldHello World'"
      ]
     },
     "execution_count": 31,
     "metadata": {},
     "output_type": "execute_result"
    }
   ],
   "source": [
    "#Duplication of String\n",
    "s5*3\n"
   ]
  },
  {
   "cell_type": "code",
   "execution_count": 32,
   "id": "6effb852-5ffb-47f7-8c3a-401241777ffe",
   "metadata": {},
   "outputs": [
    {
     "data": {
      "text/plain": [
       "True"
      ]
     },
     "execution_count": 32,
     "metadata": {},
     "output_type": "execute_result"
    }
   ],
   "source": [
    "#Checking substring in mainstring\n",
    "'World' in s5\n"
   ]
  },
  {
   "cell_type": "code",
   "execution_count": 33,
   "id": "94da2e71-6eb8-4fb3-b7aa-a992efcba12b",
   "metadata": {},
   "outputs": [
    {
     "data": {
      "text/plain": [
       "False"
      ]
     },
     "execution_count": 33,
     "metadata": {},
     "output_type": "execute_result"
    }
   ],
   "source": [
    "'sravon' in s5\n"
   ]
  },
  {
   "cell_type": "code",
   "execution_count": 34,
   "id": "0006488f-8b29-4a57-a25a-4849ab7a32d0",
   "metadata": {},
   "outputs": [
    {
     "data": {
      "text/plain": [
       "False"
      ]
     },
     "execution_count": 34,
     "metadata": {},
     "output_type": "execute_result"
    }
   ],
   "source": [
    "'World' not in s5"
   ]
  },
  {
   "cell_type": "code",
   "execution_count": 35,
   "id": "bae7318f-bc86-4648-809d-b1f5ecc4268c",
   "metadata": {},
   "outputs": [
    {
     "data": {
      "text/plain": [
       "'HELLO WORLD'"
      ]
     },
     "execution_count": 35,
     "metadata": {},
     "output_type": "execute_result"
    }
   ],
   "source": [
    "#Changing to UPPERCASE\n",
    "s5.upper()\n"
   ]
  },
  {
   "cell_type": "code",
   "execution_count": 36,
   "id": "9d526797-bee6-4d02-84d4-30ec6a2ea3af",
   "metadata": {},
   "outputs": [
    {
     "data": {
      "text/plain": [
       "'hello world'"
      ]
     },
     "execution_count": 36,
     "metadata": {},
     "output_type": "execute_result"
    }
   ],
   "source": [
    "#Changing to LOWERCASE\n",
    "s5.lower()\n"
   ]
  },
  {
   "cell_type": "code",
   "execution_count": 37,
   "id": "28a667ec-38a1-4e52-b413-d275de57c0f6",
   "metadata": {},
   "outputs": [
    {
     "data": {
      "text/plain": [
       "'Hello world'"
      ]
     },
     "execution_count": 37,
     "metadata": {},
     "output_type": "execute_result"
    }
   ],
   "source": [
    "#Changing to UPPERCASE using the function capitalize\n",
    "s5.capitalize()\n"
   ]
  },
  {
   "cell_type": "code",
   "execution_count": 38,
   "id": "e366288a-4833-4ee2-bdf9-0d810f71616b",
   "metadata": {},
   "outputs": [
    {
     "data": {
      "text/plain": [
       "'Hello World'"
      ]
     },
     "execution_count": 38,
     "metadata": {},
     "output_type": "execute_result"
    }
   ],
   "source": [
    "#Changing the case using the function title\n",
    "s5.title()\n"
   ]
  },
  {
   "cell_type": "code",
   "execution_count": 39,
   "id": "2dd5ae54-c0ad-45ed-8d55-b760eca4fafb",
   "metadata": {},
   "outputs": [
    {
     "data": {
      "text/plain": [
       "'Hello Python'"
      ]
     },
     "execution_count": 39,
     "metadata": {},
     "output_type": "execute_result"
    }
   ],
   "source": [
    "#Replacing a word using replace function\n",
    "s5.replace('World','Python')\n"
   ]
  },
  {
   "cell_type": "code",
   "execution_count": null,
   "id": "a678f878-2614-4528-ac3a-5c9b061d657b",
   "metadata": {},
   "outputs": [],
   "source": []
  }
 ],
 "metadata": {
  "kernelspec": {
   "display_name": "Python [conda env:base] *",
   "language": "python",
   "name": "conda-base-py"
  },
  "language_info": {
   "codemirror_mode": {
    "name": "ipython",
    "version": 3
   },
   "file_extension": ".py",
   "mimetype": "text/x-python",
   "name": "python",
   "nbconvert_exporter": "python",
   "pygments_lexer": "ipython3",
   "version": "3.13.5"
  }
 },
 "nbformat": 4,
 "nbformat_minor": 5
}
